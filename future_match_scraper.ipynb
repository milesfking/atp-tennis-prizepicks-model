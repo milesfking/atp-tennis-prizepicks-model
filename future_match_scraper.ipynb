{
 "cells": [
  {
   "cell_type": "markdown",
   "metadata": {},
   "source": [
    "# Import Packages"
   ]
  },
  {
   "cell_type": "code",
   "execution_count": null,
   "metadata": {},
   "outputs": [],
   "source": [
    "import pandas as pd\n",
    "import numpy as np\n",
    "import requests\n",
    "from datetime import datetime"
   ]
  },
  {
   "cell_type": "markdown",
   "metadata": {},
   "source": [
    "# Scrape Upcoming Matches"
   ]
  },
  {
   "cell_type": "markdown",
   "metadata": {},
   "source": [
    "Using the Tennis Live API, two separate API calls are made. The first retrieves a list of matches for a specified day and the second retrieves a list of current player rankings. Those are then combined to give us new rows to append to the bottom of the `full_df` in the `ATP_data_cleaning` notebook."
   ]
  },
  {
   "cell_type": "code",
   "execution_count": 87,
   "metadata": {},
   "outputs": [],
   "source": [
    "def scrapeFutureMatches(date): # date in format yyyy-mm-dd\n",
    "    \n",
    "    # Matches API request\n",
    "    # Concatenate base URL and date\n",
    "    base_url = \"https://tennis-live-data.p.rapidapi.com/matches-by-date/\"\n",
    "    url = base_url + date\n",
    "\n",
    "    # API call to get the matches for a given day\n",
    "    headers = {\n",
    "        \"X-RapidAPI-Key\": \"00229723ddmsh7d1fdfd7b967bd6p1e6ca6jsn0b3e25e2c461\",\n",
    "        \"X-RapidAPI-Host\": \"tennis-live-data.p.rapidapi.com\"\n",
    "    }\n",
    "    matches_response = requests.request(\"GET\", url, headers=headers)\n",
    "\n",
    "    # flatten and format the JSON\n",
    "    matches_df = pd.json_normalize(matches_response.json()['results'])\n",
    "    matches_df = matches_df.explode('matches')\n",
    "    matches_df = matches_df['matches'].apply(pd.Series)[['status', 'home_player', 'away_player', 'date']]\n",
    "    matches_df['home_player'] = matches_df['home_player'].apply(lambda x: str(x.split()[0]))\n",
    "    matches_df['away_player'] = matches_df['away_player'].apply(lambda x: str(x.split()[0]))\n",
    "\n",
    "    # duplicate rows to make the dataframe tidy by player\n",
    "    opp = matches_df.rename(columns={'home_player': 'away_player', 'away_player': 'home_player'})\n",
    "    matches_df = pd.concat([matches_df, opp]).rename(columns={'home_player': 'player', 'away_player': 'opponent'}) \n",
    "    matches_df = matches_df.loc[0]\n",
    "\n",
    "    \n",
    "\n",
    "    # Rankings API request\n",
    "    # API call to get the rank points for ATP players\n",
    "    url = \"https://tennis-live-data.p.rapidapi.com/rankings/ATP\"\n",
    "    headers = {\n",
    "        \"X-RapidAPI-Key\": \"00229723ddmsh7d1fdfd7b967bd6p1e6ca6jsn0b3e25e2c461\",\n",
    "        \"X-RapidAPI-Host\": \"tennis-live-data.p.rapidapi.com\"\n",
    "    }\n",
    "    rankings_response = requests.request(\"GET\", url, headers=headers)\n",
    "\n",
    "    # Flatten the JSON and rename columns\n",
    "    rankings_df = pd.json_normalize(rankings_response.json()['results']['rankings'])\n",
    "    rankings_df = rankings_df[['full_name', 'ranking_points']]\n",
    "    rankings_df['player'] = rankings_df['full_name'].apply(lambda x: str(x.split()[-1]))\n",
    "    rankings_df = rankings_df.rename(columns={'full_name': 'player_full_name', 'ranking_points': 'player_ranking_points'})\n",
    "    \n",
    "    \n",
    "    \n",
    "    # Joining the two dataframes\n",
    "    # Merge to get player names and rank points\n",
    "    matches_df['player']=matches_df['player'].astype(str)\n",
    "    rankings_df['player']=rankings_df['player'].astype(str)\n",
    "    info_df = matches_df.merge(rankings_df, on='player', how='left')\n",
    "\n",
    "    # Merge to get opponent names and rank points\n",
    "    opp_rankings_df = rankings_df.rename(columns={'player_full_name': 'opp_full_name', 'player_ranking_points': 'opp_ranking_points', 'player': 'opponent'})\n",
    "    info_df = info_df.merge(opp_rankings_df, on='opponent', how='left')\n",
    "    \n",
    "    # Clean and save resulting dataframe\n",
    "    matches = info_df.drop(columns = info_df[['player', 'opponent']])\n",
    "    matches = matches.rename(columns={'player_full_name': 'name', 'opp_full_name': 'opp_name', 'player_ranking_points': 'rank_points', 'opp_ranking_points': 'opp_rank_points'})\n",
    "    matches['tourney_date'] = matches['date'].apply(lambda x: x[:10].replace('-', ''))\n",
    "    future_matches = matches.drop(['status', 'date'], axis=1)\n",
    "    \n",
    "    return future_matches"
   ]
  },
  {
   "cell_type": "code",
   "execution_count": 95,
   "metadata": {},
   "outputs": [
    {
     "data": {
      "text/html": [
       "<div>\n",
       "<style scoped>\n",
       "    .dataframe tbody tr th:only-of-type {\n",
       "        vertical-align: middle;\n",
       "    }\n",
       "\n",
       "    .dataframe tbody tr th {\n",
       "        vertical-align: top;\n",
       "    }\n",
       "\n",
       "    .dataframe thead th {\n",
       "        text-align: right;\n",
       "    }\n",
       "</style>\n",
       "<table border=\"1\" class=\"dataframe\">\n",
       "  <thead>\n",
       "    <tr style=\"text-align: right;\">\n",
       "      <th></th>\n",
       "      <th>name</th>\n",
       "      <th>rank_points</th>\n",
       "      <th>opp_name</th>\n",
       "      <th>opp_rank_points</th>\n",
       "      <th>tourney_date</th>\n",
       "    </tr>\n",
       "  </thead>\n",
       "  <tbody>\n",
       "    <tr>\n",
       "      <th>0</th>\n",
       "      <td>Novak Djokovic</td>\n",
       "      <td>4770</td>\n",
       "      <td>Nick Kyrgios</td>\n",
       "      <td>710</td>\n",
       "      <td>20220710</td>\n",
       "    </tr>\n",
       "    <tr>\n",
       "      <th>1</th>\n",
       "      <td>Nick Kyrgios</td>\n",
       "      <td>710</td>\n",
       "      <td>Novak Djokovic</td>\n",
       "      <td>4770</td>\n",
       "      <td>20220710</td>\n",
       "    </tr>\n",
       "  </tbody>\n",
       "</table>\n",
       "</div>"
      ],
      "text/plain": [
       "             name  rank_points        opp_name  opp_rank_points tourney_date\n",
       "0  Novak Djokovic         4770    Nick Kyrgios              710     20220710\n",
       "1    Nick Kyrgios          710  Novak Djokovic             4770     20220710"
      ]
     },
     "execution_count": 95,
     "metadata": {},
     "output_type": "execute_result"
    }
   ],
   "source": [
    "# Change input date to today\n",
    "upcoming_matches_df = scrapeFutureMatches(\"2022-07-10\")\n",
    "upcoming_matches_df.head()"
   ]
  },
  {
   "cell_type": "markdown",
   "metadata": {},
   "source": [
    "# Scrape PrizePicks Lines"
   ]
  },
  {
   "cell_type": "markdown",
   "metadata": {},
   "source": [
    "Use helper function from the [PrizePicks API documentation](https://github.com/PrizePicks-Analytics/PrizePicks-API) to return data."
   ]
  },
  {
   "cell_type": "code",
   "execution_count": 93,
   "metadata": {},
   "outputs": [
    {
     "data": {
      "text/html": [
       "<div>\n",
       "<style scoped>\n",
       "    .dataframe tbody tr th:only-of-type {\n",
       "        vertical-align: middle;\n",
       "    }\n",
       "\n",
       "    .dataframe tbody tr th {\n",
       "        vertical-align: top;\n",
       "    }\n",
       "\n",
       "    .dataframe thead th {\n",
       "        text-align: right;\n",
       "    }\n",
       "</style>\n",
       "<table border=\"1\" class=\"dataframe\">\n",
       "  <thead>\n",
       "    <tr style=\"text-align: right;\">\n",
       "      <th></th>\n",
       "      <th>name</th>\n",
       "      <th>prizepicks_line</th>\n",
       "      <th>tourney_date</th>\n",
       "    </tr>\n",
       "  </thead>\n",
       "  <tbody>\n",
       "    <tr>\n",
       "      <th>3</th>\n",
       "      <td>Paula Badosa</td>\n",
       "      <td>14.5</td>\n",
       "      <td>20220806</td>\n",
       "    </tr>\n",
       "    <tr>\n",
       "      <th>7</th>\n",
       "      <td>Andrey Rublev</td>\n",
       "      <td>24.0</td>\n",
       "      <td>20220806</td>\n",
       "    </tr>\n",
       "    <tr>\n",
       "      <th>8</th>\n",
       "      <td>Daniil Medvedev</td>\n",
       "      <td>23.0</td>\n",
       "      <td>20220806</td>\n",
       "    </tr>\n",
       "  </tbody>\n",
       "</table>\n",
       "</div>"
      ],
      "text/plain": [
       "              name prizepicks_line tourney_date\n",
       "3     Paula Badosa            14.5     20220806\n",
       "7    Andrey Rublev            24.0     20220806\n",
       "8  Daniil Medvedev            23.0     20220806"
      ]
     },
     "execution_count": 93,
     "metadata": {},
     "output_type": "execute_result"
    }
   ],
   "source": [
    "# Use helper function\n",
    "def call_endpoint(url, max_level=3, include_new_player_attributes=False):\n",
    "    '''\n",
    "    takes: \n",
    "        - url (str): the API endpoint to call\n",
    "        - max_level (int): level of json normalizing to apply\n",
    "        - include_player_attributes (bool): whether to include player object attributes in the returned dataframe\n",
    "    returns:\n",
    "        - df (pd.DataFrame): a dataframe of the call response content\n",
    "    '''\n",
    "    resp = requests.get(url).json()\n",
    "    data = pd.json_normalize(resp['data'], max_level=max_level)\n",
    "    included = pd.json_normalize(resp['included'], max_level=max_level)\n",
    "    if include_new_player_attributes:\n",
    "        inc_cop = included[included['type'] == 'new_player'].copy().dropna(axis=1)\n",
    "        data = pd.merge(data,\n",
    "                        inc_cop,\n",
    "                        how='left',\n",
    "                        left_on=['relationships.new_player.data.id', 'relationships.new_player.data.type'],\n",
    "                        right_on=['id', 'type'],\n",
    "                        suffixes=('', '_new_player'))\n",
    "    return data\n",
    "\n",
    "# Create dataframe using the helper function\n",
    "url = 'https://partner-api.prizepicks.com/projections?per_page=100'\n",
    "df = call_endpoint(url, include_new_player_attributes=True)\n",
    "lines = df[['attributes.league', 'attributes.team', 'attributes.name', 'attributes.stat_type', 'attributes.line_score', 'attributes.start_time']]\n",
    "lines = lines.rename(columns={\n",
    "    \"attributes.line_score\": \"prizepicks_line\",\n",
    "    \"attributes.start_time\": \"Start Time\",\n",
    "    \"attributes.stat_type\": \"Stat Type\",\n",
    "    \"attributes.name\": \"name\",\n",
    "    \"attributes.team\": \"Team Name\",\n",
    "    \"attributes.league\": \"League\"\n",
    "})\n",
    "\n",
    "# Format start time\n",
    "lines['Start Date'] = \"\"\n",
    "for i in range(len(lines['Start Time'])):\n",
    "    temp_date = datetime.fromisoformat(lines['Start Time'][i])\n",
    "    lines['Start Date'][i] = temp_date.date()\n",
    "    lines['Start Time'][i] = temp_date.hour\n",
    "lines['tourney_date'] = lines['Start Date'].apply(lambda x: x.strftime(\"%Y%m%d\"))\n",
    "    \n",
    "    \n",
    "# Filter to only include tennis, only fantasy points\n",
    "lines = lines[lines['League'] == 'TENNIS']\n",
    "lines = lines[lines['Stat Type'] == 'Fantasy Score']\n",
    "\n",
    "# Drop unnecessary cols\n",
    "prizepicks_df = lines.drop(columns=['League', 'Team Name', 'Stat Type', 'Start Time', 'Start Date'])\n",
    "\n",
    "\n",
    "# Show dataframe and save to CSV\n",
    "prizepicks_df.head()\n",
    "# lines.to_csv(r'June 28 Tennis.csv')"
   ]
  },
  {
   "cell_type": "markdown",
   "metadata": {},
   "source": [
    "# Combine Dataframes"
   ]
  },
  {
   "cell_type": "markdown",
   "metadata": {},
   "source": [
    "`prizepicks_line` is not a column that exists in the historical ATP dataset, so it will only be used for the sake of assessing whether our predictions outperform expectations or not."
   ]
  },
  {
   "cell_type": "code",
   "execution_count": null,
   "metadata": {},
   "outputs": [],
   "source": [
    "upcoming_df = prizepicks_df.merge(upcoming_matches_df, how=\"inner\", on=['name', 'tourney_date'])\n",
    "upcoming_df.head()"
   ]
  },
  {
   "cell_type": "code",
   "execution_count": null,
   "metadata": {},
   "outputs": [],
   "source": [
    "# Save to CSV\n",
    "file_name = \"future_matches_\" + date + \".csv\"\n",
    "upcoming_df.to_csv(file_name)"
   ]
  }
 ],
 "metadata": {
  "kernelspec": {
   "display_name": "Python 3",
   "language": "python",
   "name": "python3"
  },
  "language_info": {
   "codemirror_mode": {
    "name": "ipython",
    "version": 3
   },
   "file_extension": ".py",
   "mimetype": "text/x-python",
   "name": "python",
   "nbconvert_exporter": "python",
   "pygments_lexer": "ipython3",
   "version": "3.8.3"
  }
 },
 "nbformat": 4,
 "nbformat_minor": 4
}
