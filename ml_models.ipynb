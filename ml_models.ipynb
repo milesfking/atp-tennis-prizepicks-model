{
 "cells": [
  {
   "cell_type": "markdown",
   "metadata": {},
   "source": [
    "## Import Packages"
   ]
  },
  {
   "cell_type": "code",
   "execution_count": 20,
   "metadata": {},
   "outputs": [],
   "source": [
    "import pandas as pd\n",
    "import numpy as np\n",
    "import seaborn as sns\n",
    "from sklearn.linear_model import LinearRegression, Lasso, LassoCV\n",
    "from sklearn.model_selection import train_test_split, RandomizedSearchCV, GridSearchCV\n",
    "from sklearn.metrics import mean_squared_error, mean_absolute_error, r2_score\n",
    "from sklearn.preprocessing import StandardScaler\n",
    "from sklearn.tree import DecisionTreeRegressor\n",
    "from sklearn.ensemble import RandomForestRegressor"
   ]
  },
  {
   "cell_type": "markdown",
   "metadata": {},
   "source": [
    "## Load Data"
   ]
  },
  {
   "cell_type": "code",
   "execution_count": 21,
   "metadata": {},
   "outputs": [
    {
     "data": {
      "text/html": [
       "<div>\n",
       "<style scoped>\n",
       "    .dataframe tbody tr th:only-of-type {\n",
       "        vertical-align: middle;\n",
       "    }\n",
       "\n",
       "    .dataframe tbody tr th {\n",
       "        vertical-align: top;\n",
       "    }\n",
       "\n",
       "    .dataframe thead th {\n",
       "        text-align: right;\n",
       "    }\n",
       "</style>\n",
       "<table border=\"1\" class=\"dataframe\">\n",
       "  <thead>\n",
       "    <tr style=\"text-align: right;\">\n",
       "      <th></th>\n",
       "      <th>name</th>\n",
       "      <th>opp_name</th>\n",
       "      <th>tourney_date</th>\n",
       "      <th>grand_slam</th>\n",
       "      <th>best_of</th>\n",
       "      <th>surface</th>\n",
       "      <th>age</th>\n",
       "      <th>opp_age</th>\n",
       "      <th>seed_diff</th>\n",
       "      <th>rank_points_diff</th>\n",
       "      <th>...</th>\n",
       "      <th>avg_df</th>\n",
       "      <th>avg_svpt</th>\n",
       "      <th>avg_FirstIn</th>\n",
       "      <th>avg_FirstWon</th>\n",
       "      <th>avg_SecondWon</th>\n",
       "      <th>avg_SvGms</th>\n",
       "      <th>avg_bpSaved</th>\n",
       "      <th>avg_bpFaced</th>\n",
       "      <th>h2h_fantasy_pts</th>\n",
       "      <th>fantasy_pts</th>\n",
       "    </tr>\n",
       "  </thead>\n",
       "  <tbody>\n",
       "    <tr>\n",
       "      <th>12</th>\n",
       "      <td>Todd Woodbridge</td>\n",
       "      <td>Jiri Novak</td>\n",
       "      <td>19961230</td>\n",
       "      <td>0</td>\n",
       "      <td>3</td>\n",
       "      <td>Hard</td>\n",
       "      <td>25.7</td>\n",
       "      <td>21.7</td>\n",
       "      <td>-46.0</td>\n",
       "      <td>209.0</td>\n",
       "      <td>...</td>\n",
       "      <td>6.0</td>\n",
       "      <td>90.0</td>\n",
       "      <td>53.0</td>\n",
       "      <td>40.0</td>\n",
       "      <td>20.0</td>\n",
       "      <td>14.0</td>\n",
       "      <td>4.0</td>\n",
       "      <td>5.0</td>\n",
       "      <td>14.50</td>\n",
       "      <td>20.0</td>\n",
       "    </tr>\n",
       "    <tr>\n",
       "      <th>13</th>\n",
       "      <td>Alex Obrien</td>\n",
       "      <td>Thomas Johansson</td>\n",
       "      <td>19961230</td>\n",
       "      <td>0</td>\n",
       "      <td>3</td>\n",
       "      <td>Hard</td>\n",
       "      <td>26.8</td>\n",
       "      <td>21.7</td>\n",
       "      <td>-45.0</td>\n",
       "      <td>237.0</td>\n",
       "      <td>...</td>\n",
       "      <td>1.0</td>\n",
       "      <td>115.0</td>\n",
       "      <td>75.0</td>\n",
       "      <td>59.0</td>\n",
       "      <td>25.0</td>\n",
       "      <td>17.0</td>\n",
       "      <td>4.0</td>\n",
       "      <td>5.0</td>\n",
       "      <td>21.00</td>\n",
       "      <td>16.0</td>\n",
       "    </tr>\n",
       "    <tr>\n",
       "      <th>14</th>\n",
       "      <td>Jeff Tarango</td>\n",
       "      <td>David Prinosil</td>\n",
       "      <td>19961230</td>\n",
       "      <td>0</td>\n",
       "      <td>3</td>\n",
       "      <td>Hard</td>\n",
       "      <td>28.1</td>\n",
       "      <td>23.8</td>\n",
       "      <td>44.0</td>\n",
       "      <td>-541.0</td>\n",
       "      <td>...</td>\n",
       "      <td>3.0</td>\n",
       "      <td>52.0</td>\n",
       "      <td>33.0</td>\n",
       "      <td>24.0</td>\n",
       "      <td>12.0</td>\n",
       "      <td>9.0</td>\n",
       "      <td>1.0</td>\n",
       "      <td>2.0</td>\n",
       "      <td>21.00</td>\n",
       "      <td>22.5</td>\n",
       "    </tr>\n",
       "    <tr>\n",
       "      <th>17</th>\n",
       "      <td>Mikael Tillstrom</td>\n",
       "      <td>Andrei Cherkasov</td>\n",
       "      <td>19961230</td>\n",
       "      <td>0</td>\n",
       "      <td>3</td>\n",
       "      <td>Hard</td>\n",
       "      <td>24.8</td>\n",
       "      <td>26.4</td>\n",
       "      <td>0.0</td>\n",
       "      <td>536.0</td>\n",
       "      <td>...</td>\n",
       "      <td>0.0</td>\n",
       "      <td>51.0</td>\n",
       "      <td>29.0</td>\n",
       "      <td>21.0</td>\n",
       "      <td>13.0</td>\n",
       "      <td>8.0</td>\n",
       "      <td>2.0</td>\n",
       "      <td>2.0</td>\n",
       "      <td>25.00</td>\n",
       "      <td>24.0</td>\n",
       "    </tr>\n",
       "    <tr>\n",
       "      <th>18</th>\n",
       "      <td>Todd Woodbridge</td>\n",
       "      <td>Alex Obrien</td>\n",
       "      <td>19961230</td>\n",
       "      <td>0</td>\n",
       "      <td>3</td>\n",
       "      <td>Hard</td>\n",
       "      <td>25.7</td>\n",
       "      <td>26.8</td>\n",
       "      <td>-1.0</td>\n",
       "      <td>39.0</td>\n",
       "      <td>...</td>\n",
       "      <td>4.0</td>\n",
       "      <td>90.0</td>\n",
       "      <td>56.0</td>\n",
       "      <td>40.5</td>\n",
       "      <td>16.0</td>\n",
       "      <td>12.5</td>\n",
       "      <td>4.0</td>\n",
       "      <td>5.5</td>\n",
       "      <td>17.25</td>\n",
       "      <td>19.5</td>\n",
       "    </tr>\n",
       "  </tbody>\n",
       "</table>\n",
       "<p>5 rows × 22 columns</p>\n",
       "</div>"
      ],
      "text/plain": [
       "                name          opp_name  tourney_date  grand_slam  best_of  \\\n",
       "12   Todd Woodbridge        Jiri Novak      19961230           0        3   \n",
       "13       Alex Obrien  Thomas Johansson      19961230           0        3   \n",
       "14      Jeff Tarango    David Prinosil      19961230           0        3   \n",
       "17  Mikael Tillstrom  Andrei Cherkasov      19961230           0        3   \n",
       "18   Todd Woodbridge       Alex Obrien      19961230           0        3   \n",
       "\n",
       "   surface   age  opp_age  seed_diff  rank_points_diff  ...  avg_df  avg_svpt  \\\n",
       "12    Hard  25.7     21.7      -46.0             209.0  ...     6.0      90.0   \n",
       "13    Hard  26.8     21.7      -45.0             237.0  ...     1.0     115.0   \n",
       "14    Hard  28.1     23.8       44.0            -541.0  ...     3.0      52.0   \n",
       "17    Hard  24.8     26.4        0.0             536.0  ...     0.0      51.0   \n",
       "18    Hard  25.7     26.8       -1.0              39.0  ...     4.0      90.0   \n",
       "\n",
       "    avg_FirstIn  avg_FirstWon  avg_SecondWon  avg_SvGms  avg_bpSaved  \\\n",
       "12         53.0          40.0           20.0       14.0          4.0   \n",
       "13         75.0          59.0           25.0       17.0          4.0   \n",
       "14         33.0          24.0           12.0        9.0          1.0   \n",
       "17         29.0          21.0           13.0        8.0          2.0   \n",
       "18         56.0          40.5           16.0       12.5          4.0   \n",
       "\n",
       "    avg_bpFaced  h2h_fantasy_pts  fantasy_pts  \n",
       "12          5.0            14.50         20.0  \n",
       "13          5.0            21.00         16.0  \n",
       "14          2.0            21.00         22.5  \n",
       "17          2.0            25.00         24.0  \n",
       "18          5.5            17.25         19.5  \n",
       "\n",
       "[5 rows x 22 columns]"
      ]
     },
     "execution_count": 21,
     "metadata": {},
     "output_type": "execute_result"
    }
   ],
   "source": [
    "cleaned_df = pd.read_csv(\"cleaned_atp_data.csv\", index_col=0)\n",
    "cleaned_df.head()"
   ]
  },
  {
   "cell_type": "markdown",
   "metadata": {},
   "source": [
    "## Preprocess Data"
   ]
  },
  {
   "cell_type": "code",
   "execution_count": 23,
   "metadata": {},
   "outputs": [],
   "source": [
    "# Save numeric variables (and surface)\n",
    "num_vars = [\n",
    "    'grand_slam', 'best_of', 'surface', # Tourney vars\n",
    "    'age', 'opp_age', 'seed_diff', 'rank_points_diff', # Player vars\n",
    "    'avg_fantasy_pts', 'avg_ace', 'avg_df', 'avg_svpt', 'avg_FirstIn', # Stat avgs\n",
    "    'avg_FirstWon', 'avg_SecondWon', 'avg_SvGms', 'avg_bpSaved', 'avg_bpFaced', # Stat avgs\n",
    "    'h2h_fantasy_pts', # H2H avgs\n",
    "    'fantasy_pts'] # Response var\n",
    "cleaned_df = cleaned_df[num_vars]\n",
    "\n",
    "# Create dummy variables for surface\n",
    "model_df = pd.get_dummies(data=cleaned_df, columns=['surface'])"
   ]
  },
  {
   "cell_type": "markdown",
   "metadata": {},
   "source": [
    "## Train-Test Split"
   ]
  },
  {
   "cell_type": "code",
   "execution_count": 24,
   "metadata": {},
   "outputs": [],
   "source": [
    "# Separate predictor and response variables\n",
    "X = model_df.drop(['fantasy_pts'], axis = 1)\n",
    "y = model_df['fantasy_pts']\n",
    "\n",
    "# Train test split\n",
    "X_train, X_test, y_train, y_test = train_test_split(X, y, test_size=0.2, random_state=1)"
   ]
  },
  {
   "cell_type": "markdown",
   "metadata": {},
   "source": [
    "## Modeling"
   ]
  },
  {
   "cell_type": "markdown",
   "metadata": {},
   "source": [
    "### Simple Linear Regression"
   ]
  },
  {
   "cell_type": "code",
   "execution_count": 25,
   "metadata": {},
   "outputs": [
    {
     "name": "stdout",
     "output_type": "stream",
     "text": [
      "Train R-Squared: 0.22536938518012495\n",
      "Train MSE: 56.02382057581777\n",
      "\n",
      "Test R-Squared: 0.21402223642107365\n",
      "Test MSE: 56.9315437999134\n"
     ]
    }
   ],
   "source": [
    "# Fit and predict a linear model\n",
    "lm = LinearRegression()\n",
    "lm.fit(X_train, y_train)\n",
    "y_train_pred = lm.predict(X_train)\n",
    "y_pred = lm.predict(X_test)\n",
    "\n",
    "# Print train and test statistics\n",
    "print(\"Train R-Squared:\", r2_score(y_train_pred, y_train))\n",
    "print(\"Train MSE:\", mean_squared_error(y_train_pred, y_train))\n",
    "print()\n",
    "print(\"Test R-Squared:\", r2_score(y_pred, y_test))\n",
    "print(\"Test MSE:\", mean_squared_error(y_pred, y_test))"
   ]
  },
  {
   "cell_type": "markdown",
   "metadata": {},
   "source": [
    "### Lasso Regression"
   ]
  },
  {
   "cell_type": "code",
   "execution_count": 28,
   "metadata": {},
   "outputs": [
    {
     "name": "stdout",
     "output_type": "stream",
     "text": [
      "Train R-Squared: -0.3483029379432192\n",
      "Train MSE: 63.518898656277955\n",
      "\n",
      "Test R-Squared: -0.35999817720041905\n",
      "Test MSE: 63.80931043584518\n"
     ]
    }
   ],
   "source": [
    "# Lasso with 5 fold cross-validation\n",
    "model = LassoCV(cv=5, random_state=1, max_iter=10000)\n",
    "\n",
    "# Fit these models and record accuracy\n",
    "model.fit(X_train, y_train)\n",
    "\n",
    "# Run lasso on the best alpha value\n",
    "lasso_best = Lasso(alpha=model.alpha_)\n",
    "lasso_best.fit(X_train, y_train)\n",
    "y_train_pred = lasso_best.predict(X_train)\n",
    "y_pred = lasso_best.predict(X_test)\n",
    "\n",
    "# Print train and test statistics\n",
    "print(\"Train R-Squared:\", r2_score(y_train_pred, y_train))\n",
    "print(\"Train MSE:\", mean_squared_error(y_train_pred, y_train))\n",
    "print()\n",
    "print(\"Test R-Squared:\", r2_score(y_pred, y_test))\n",
    "print(\"Test MSE:\", mean_squared_error(y_pred, y_test))"
   ]
  },
  {
   "cell_type": "markdown",
   "metadata": {},
   "source": [
    "### Decision Tree Regressor"
   ]
  },
  {
   "cell_type": "code",
   "execution_count": 30,
   "metadata": {},
   "outputs": [
    {
     "name": "stdout",
     "output_type": "stream",
     "text": [
      "Train R-Squared: 0.7275426537929284\n",
      "Train MSE: 27.481556307514158\n",
      "\n",
      "Test R-Squared: 0.6420062151618307\n",
      "Test MSE: 36.09630353488186\n"
     ]
    }
   ],
   "source": [
    "# Grid search for best parameters\n",
    "parameters = {'max_depth': [2,4,6,8,10,12],\n",
    "             'min_samples_split': [2,3,4],\n",
    "             'min_samples_leaf': [1,2]}\n",
    "tree = DecisionTreeRegressor()\n",
    "gscv = GridSearchCV(estimator=tree,param_grid=parameters)\n",
    "gscv.fit(X_train, y_train)\n",
    "\n",
    "# Fit model with the best parameters\n",
    "model = gscv.best_estimator_\n",
    "model.fit(X_train, y_train)\n",
    "\n",
    "# Print train and test statistics\n",
    "y_train_pred = model.predict(X_train)\n",
    "print(\"Train R-Squared:\", r2_score(y_train_pred, y_train))\n",
    "print(\"Train MSE:\", mean_squared_error(y_train_pred, y_train))\n",
    "print()\n",
    "y_pred = model.predict(X_test)\n",
    "print(\"Test R-Squared:\", r2_score(y_pred, y_test))\n",
    "print(\"Test MSE:\", mean_squared_error(y_pred, y_test))"
   ]
  },
  {
   "cell_type": "markdown",
   "metadata": {},
   "source": [
    "### Random Forest Regressor"
   ]
  },
  {
   "cell_type": "code",
   "execution_count": 31,
   "metadata": {
    "scrolled": true
   },
   "outputs": [
    {
     "name": "stdout",
     "output_type": "stream",
     "text": [
      "Train R-Squared: 0.910443662265121\n",
      "Train MSE: 9.561530684997651\n",
      "\n",
      "Test R-Squared: 0.7249990704216469\n",
      "Test MSE: 26.974958740273102\n"
     ]
    }
   ],
   "source": [
    "# Fit a random forest and predict\n",
    "rfor = RandomForestRegressor(max_depth=19, max_features=1.0)\n",
    "rfor.fit(X_train, y_train)\n",
    "\n",
    "\n",
    "# Print train and test statistics\n",
    "y_train_pred = rfor.predict(X_train)\n",
    "print(\"Train R-Squared:\", r2_score(y_train_pred, y_train))\n",
    "print(\"Train MSE:\", mean_squared_error(y_train_pred, y_train))\n",
    "print()\n",
    "y_pred = rfor.predict(X_test)\n",
    "print(\"Test R-Squared:\", r2_score(y_pred, y_test))\n",
    "print(\"Test MSE:\", mean_squared_error(y_pred, y_test))"
   ]
  },
  {
   "cell_type": "markdown",
   "metadata": {},
   "source": [
    "## Model Selection Prediction"
   ]
  },
  {
   "cell_type": "markdown",
   "metadata": {},
   "source": [
    "It is clear that the random forest regressor performs the best, so we will select this model and perform additional analysis.\n",
    "\n",
    "*Mean-absolute-error of 3.86 fantasy points is a very satisfying result, as the standard deviation of results is 11.32 points. Decent performance can be achieved by selecting a set number of points for the predicted winner and a set number of points for the predicted loser, but this model performs better than that. MAE is probably more relevant than MSE because we do not care about penalizing based on how inaccurate predictions are; we are just predicting if the value does or does not exceed the over/under line set by PrizePicks."
   ]
  },
  {
   "cell_type": "code",
   "execution_count": 32,
   "metadata": {},
   "outputs": [
    {
     "name": "stdout",
     "output_type": "stream",
     "text": [
      "Test R-Squared: 0.7249990704216469\n",
      "Test MSE: 26.974958740273102\n",
      "Test MAE: 3.8609312122291612\n"
     ]
    },
    {
     "data": {
      "text/plain": [
       "<matplotlib.axes._subplots.AxesSubplot at 0x7ff1b55bac40>"
      ]
     },
     "execution_count": 32,
     "metadata": {},
     "output_type": "execute_result"
    },
    {
     "data": {
      "image/png": "[encoded data removed]",
      "text/plain": [
       "<Figure size 432x288 with 1 Axes>"
      ]
     },
     "metadata": {
      "needs_background": "light"
     },
     "output_type": "display_data"
    }
   ],
   "source": [
    "# Random forest regressor analysis\n",
    "print(\"Test R-Squared:\", r2_score(y_pred, y_test))\n",
    "print(\"Test MSE:\", mean_squared_error(y_pred, y_test))\n",
    "print(\"Test MAE:\", mean_absolute_error(y_pred, y_test))\n",
    "sns.scatterplot(x = y_test, y = y_pred)"
   ]
  }
 ],
 "metadata": {
  "kernelspec": {
   "display_name": "Python 3",
   "language": "python",
   "name": "python3"
  },
  "language_info": {
   "codemirror_mode": {
    "name": "ipython",
    "version": 3
   },
   "file_extension": ".py",
   "mimetype": "text/x-python",
   "name": "python",
   "nbconvert_exporter": "python",
   "pygments_lexer": "ipython3",
   "version": "3.8.3"
  }
 },
 "nbformat": 4,
 "nbformat_minor": 4
}
