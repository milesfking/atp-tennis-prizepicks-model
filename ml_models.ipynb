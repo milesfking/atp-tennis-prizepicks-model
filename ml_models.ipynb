{
  "cells": [
    {
      "cell_type": "markdown",
      "metadata": {
        "id": "ShYVbDViayWu"
      },
      "source": [
        "Demonstates how a number of different machine learning models perform on the cleaned data. Models tested include simple linear regression, lasso regression, a decision tree regressor, and a random forest regressor. Only the best performing model (the random forest) is used in the `ATP_script` notebook."
      ]
    },
    {
      "cell_type": "markdown",
      "source": [
        "## Import Packages"
      ],
      "metadata": {
        "id": "8jDqoPb4a2x1"
      }
    },
    {
      "cell_type": "code",
      "execution_count": null,
      "metadata": {
        "id": "90wMfEkqayWw"
      },
      "outputs": [],
      "source": [
        "import pandas as pd\n",
        "import numpy as np\n",
        "import seaborn as sns\n",
        "from sklearn.linear_model import LinearRegression, Lasso, LassoCV\n",
        "from sklearn.model_selection import train_test_split, RandomizedSearchCV, GridSearchCV\n",
        "from sklearn.metrics import mean_squared_error, mean_absolute_error, r2_score\n",
        "from sklearn.preprocessing import StandardScaler\n",
        "from sklearn.tree import DecisionTreeRegressor\n",
        "from sklearn.ensemble import RandomForestRegressor"
      ]
    },
    {
      "cell_type": "markdown",
      "metadata": {
        "id": "9zTAUsimayWx"
      },
      "source": [
        "## Load Data"
      ]
    },
    {
      "cell_type": "code",
      "execution_count": null,
      "metadata": {
        "id": "iClvDj4oayWx",
        "outputId": "38d9dcc9-fc98-4bca-e49e-b89428ad6688"
      },
      "outputs": [
        {
          "data": {
            "text/html": [
              "<div>\n",
              "<style scoped>\n",
              "    .dataframe tbody tr th:only-of-type {\n",
              "        vertical-align: middle;\n",
              "    }\n",
              "\n",
              "    .dataframe tbody tr th {\n",
              "        vertical-align: top;\n",
              "    }\n",
              "\n",
              "    .dataframe thead th {\n",
              "        text-align: right;\n",
              "    }\n",
              "</style>\n",
              "<table border=\"1\" class=\"dataframe\">\n",
              "  <thead>\n",
              "    <tr style=\"text-align: right;\">\n",
              "      <th></th>\n",
              "      <th>name</th>\n",
              "      <th>opp_name</th>\n",
              "      <th>tourney_date</th>\n",
              "      <th>grand_slam</th>\n",
              "      <th>best_of</th>\n",
              "      <th>surface</th>\n",
              "      <th>age</th>\n",
              "      <th>opp_age</th>\n",
              "      <th>seed_diff</th>\n",
              "      <th>rank_points_diff</th>\n",
              "      <th>...</th>\n",
              "      <th>avg_svpt</th>\n",
              "      <th>avg_FirstIn</th>\n",
              "      <th>avg_FirstWon</th>\n",
              "      <th>avg_SecondWon</th>\n",
              "      <th>avg_SvGms</th>\n",
              "      <th>avg_bpSaved</th>\n",
              "      <th>avg_bpFaced</th>\n",
              "      <th>h2h_fantasy_pts</th>\n",
              "      <th>fantasy_pts</th>\n",
              "      <th>prizepicks_line</th>\n",
              "    </tr>\n",
              "  </thead>\n",
              "  <tbody>\n",
              "    <tr>\n",
              "      <th>100202</th>\n",
              "      <td>Rafael Nadal</td>\n",
              "      <td>NaN</td>\n",
              "      <td>20220806</td>\n",
              "      <td>1</td>\n",
              "      <td>5</td>\n",
              "      <td>Grass</td>\n",
              "      <td>35.533607</td>\n",
              "      <td>26.185368</td>\n",
              "      <td>0.0</td>\n",
              "      <td>0.0</td>\n",
              "      <td>...</td>\n",
              "      <td>76.801379</td>\n",
              "      <td>52.428966</td>\n",
              "      <td>37.713103</td>\n",
              "      <td>13.824828</td>\n",
              "      <td>12.515862</td>\n",
              "      <td>3.528276</td>\n",
              "      <td>5.364138</td>\n",
              "      <td>20.030458</td>\n",
              "      <td>NaN</td>\n",
              "      <td>23.0</td>\n",
              "    </tr>\n",
              "    <tr>\n",
              "      <th>100203</th>\n",
              "      <td>Novak Djokovic</td>\n",
              "      <td>NaN</td>\n",
              "      <td>20220806</td>\n",
              "      <td>1</td>\n",
              "      <td>5</td>\n",
              "      <td>Grass</td>\n",
              "      <td>35.133607</td>\n",
              "      <td>26.185368</td>\n",
              "      <td>0.0</td>\n",
              "      <td>0.0</td>\n",
              "      <td>...</td>\n",
              "      <td>80.486172</td>\n",
              "      <td>51.979622</td>\n",
              "      <td>38.285298</td>\n",
              "      <td>15.723435</td>\n",
              "      <td>12.988355</td>\n",
              "      <td>3.583697</td>\n",
              "      <td>5.462882</td>\n",
              "      <td>20.030458</td>\n",
              "      <td>NaN</td>\n",
              "      <td>11.0</td>\n",
              "    </tr>\n",
              "    <tr>\n",
              "      <th>100204</th>\n",
              "      <td>Nick Kyrgios</td>\n",
              "      <td>NaN</td>\n",
              "      <td>20220806</td>\n",
              "      <td>1</td>\n",
              "      <td>5</td>\n",
              "      <td>Grass</td>\n",
              "      <td>27.333607</td>\n",
              "      <td>26.185368</td>\n",
              "      <td>0.0</td>\n",
              "      <td>0.0</td>\n",
              "      <td>...</td>\n",
              "      <td>84.910526</td>\n",
              "      <td>55.942105</td>\n",
              "      <td>43.963158</td>\n",
              "      <td>15.547368</td>\n",
              "      <td>13.826316</td>\n",
              "      <td>2.994737</td>\n",
              "      <td>4.384211</td>\n",
              "      <td>20.030458</td>\n",
              "      <td>NaN</td>\n",
              "      <td>16.0</td>\n",
              "    </tr>\n",
              "  </tbody>\n",
              "</table>\n",
              "<p>3 rows × 23 columns</p>\n",
              "</div>"
            ],
            "text/plain": [
              "                  name opp_name  tourney_date  grand_slam  best_of surface  \\\n",
              "100202    Rafael Nadal      NaN      20220806           1        5   Grass   \n",
              "100203  Novak Djokovic      NaN      20220806           1        5   Grass   \n",
              "100204    Nick Kyrgios      NaN      20220806           1        5   Grass   \n",
              "\n",
              "              age    opp_age  seed_diff  rank_points_diff  ...   avg_svpt  \\\n",
              "100202  35.533607  26.185368        0.0               0.0  ...  76.801379   \n",
              "100203  35.133607  26.185368        0.0               0.0  ...  80.486172   \n",
              "100204  27.333607  26.185368        0.0               0.0  ...  84.910526   \n",
              "\n",
              "        avg_FirstIn  avg_FirstWon  avg_SecondWon  avg_SvGms  avg_bpSaved  \\\n",
              "100202    52.428966     37.713103      13.824828  12.515862     3.528276   \n",
              "100203    51.979622     38.285298      15.723435  12.988355     3.583697   \n",
              "100204    55.942105     43.963158      15.547368  13.826316     2.994737   \n",
              "\n",
              "        avg_bpFaced  h2h_fantasy_pts  fantasy_pts  prizepicks_line  \n",
              "100202     5.364138        20.030458          NaN             23.0  \n",
              "100203     5.462882        20.030458          NaN             11.0  \n",
              "100204     4.384211        20.030458          NaN             16.0  \n",
              "\n",
              "[3 rows x 23 columns]"
            ]
          },
          "execution_count": 55,
          "metadata": {},
          "output_type": "execute_result"
        }
      ],
      "source": [
        "cleaned_df = pd.read_csv(\"cleaned_atp_data.csv\", index_col=0)\n",
        "\n",
        "# Split into matches to fit and matches to predict\n",
        "matches_to_fit = cleaned_df[pd.isnull(cleaned_df['prizepicks_line'])]\n",
        "matches_to_predict = cleaned_df[pd.notna(cleaned_df['prizepicks_line'])]"
      ]
    },
    {
      "cell_type": "markdown",
      "metadata": {
        "id": "sIe8Kbb3ayWz"
      },
      "source": [
        "## Preprocess Data"
      ]
    },
    {
      "cell_type": "code",
      "execution_count": null,
      "metadata": {
        "id": "ZJpkpWL0ayWz"
      },
      "outputs": [],
      "source": [
        "# Save numeric variables (and surface)\n",
        "num_vars = [\n",
        "    'grand_slam', 'best_of', 'surface', # Tourney vars\n",
        "    'age', 'opp_age', 'seed_diff', 'rank_points_diff', # Player vars\n",
        "    'avg_fantasy_pts', 'avg_ace', 'avg_df', 'avg_svpt', 'avg_FirstIn', # Stat avgs\n",
        "    'avg_FirstWon', 'avg_SecondWon', 'avg_SvGms', 'avg_bpSaved', 'avg_bpFaced', # Stat avgs\n",
        "    'h2h_fantasy_pts', # H2H avgs\n",
        "    'fantasy_pts'] # Response var\n",
        "matches_to_fit = matches_to_fit[num_vars]\n",
        "\n",
        "# Create dummy variables for surface\n",
        "model_df = pd.get_dummies(data=matches_to_fit, columns=['surface'])"
      ]
    },
    {
      "cell_type": "markdown",
      "metadata": {
        "id": "LSG92IlCayW0"
      },
      "source": [
        "## Train-Test Split"
      ]
    },
    {
      "cell_type": "code",
      "execution_count": null,
      "metadata": {
        "id": "nY4TKuguayW0"
      },
      "outputs": [],
      "source": [
        "# Separate predictor and response variables\n",
        "X = model_df.drop(['fantasy_pts'], axis = 1)\n",
        "y = model_df['fantasy_pts']\n",
        "\n",
        "# Train test split\n",
        "X_train, X_test, y_train, y_test = train_test_split(X, y, test_size=0.2, random_state=1)"
      ]
    },
    {
      "cell_type": "markdown",
      "metadata": {
        "id": "_Jugy5BiayW0"
      },
      "source": [
        "## Modeling"
      ]
    },
    {
      "cell_type": "markdown",
      "metadata": {
        "id": "yufdF4Q1ayW0"
      },
      "source": [
        "### Simple Linear Regression"
      ]
    },
    {
      "cell_type": "code",
      "execution_count": null,
      "metadata": {
        "id": "B2-VJauXayW1",
        "outputId": "82da9861-6595-4ca8-c262-06a831aae2d2"
      },
      "outputs": [
        {
          "name": "stdout",
          "output_type": "stream",
          "text": [
            "Train R-Squared: 0.20609800324935035\n",
            "Train MSE: 56.56426974602789\n",
            "\n",
            "Test R-Squared: 0.1892984285471253\n",
            "Test MSE: 57.425641407300766\n"
          ]
        }
      ],
      "source": [
        "# Fit and predict a linear model\n",
        "lm = LinearRegression()\n",
        "lm.fit(X_train, y_train)\n",
        "y_train_pred = lm.predict(X_train)\n",
        "y_pred = lm.predict(X_test)\n",
        "\n",
        "# Print train and test statistics\n",
        "print(\"Train R-Squared:\", r2_score(y_train_pred, y_train))\n",
        "print(\"Train MSE:\", mean_squared_error(y_train_pred, y_train))\n",
        "print()\n",
        "print(\"Test R-Squared:\", r2_score(y_pred, y_test))\n",
        "print(\"Test MSE:\", mean_squared_error(y_pred, y_test))"
      ]
    },
    {
      "cell_type": "markdown",
      "metadata": {
        "id": "TZxyPnAGayW1"
      },
      "source": [
        "### Lasso Regression"
      ]
    },
    {
      "cell_type": "code",
      "execution_count": null,
      "metadata": {
        "id": "NrshgWBnayW1",
        "outputId": "ea817494-4918-44d2-eaed-1e0bda77633c"
      },
      "outputs": [
        {
          "name": "stdout",
          "output_type": "stream",
          "text": [
            "Train R-Squared: -0.4141010114171215\n",
            "Train MSE: 64.72148439908413\n",
            "\n",
            "Test R-Squared: -0.4219636812218521\n",
            "Test MSE: 65.24619110379632\n"
          ]
        }
      ],
      "source": [
        "# Lasso with 5 fold cross-validation\n",
        "model = LassoCV(cv=5, random_state=1, max_iter=10000)\n",
        "\n",
        "# Fit these models and record accuracy\n",
        "model.fit(X_train, y_train)\n",
        "\n",
        "# Run lasso on the best alpha value\n",
        "lasso_best = Lasso(alpha=model.alpha_)\n",
        "lasso_best.fit(X_train, y_train)\n",
        "y_train_pred = lasso_best.predict(X_train)\n",
        "y_pred = lasso_best.predict(X_test)\n",
        "\n",
        "# Print train and test statistics\n",
        "print(\"Train R-Squared:\", r2_score(y_train_pred, y_train))\n",
        "print(\"Train MSE:\", mean_squared_error(y_train_pred, y_train))\n",
        "print()\n",
        "print(\"Test R-Squared:\", r2_score(y_pred, y_test))\n",
        "print(\"Test MSE:\", mean_squared_error(y_pred, y_test))"
      ]
    },
    {
      "cell_type": "markdown",
      "metadata": {
        "id": "WUcrVBp1ayW2"
      },
      "source": [
        "### Decision Tree Regressor"
      ]
    },
    {
      "cell_type": "code",
      "execution_count": null,
      "metadata": {
        "id": "EvhkO3grayW2",
        "outputId": "a1aebb9f-ba90-4428-916d-acd21bb1034a"
      },
      "outputs": [
        {
          "name": "stdout",
          "output_type": "stream",
          "text": [
            "Train R-Squared: 0.7098193498458314\n",
            "Train MSE: 28.74696028429339\n",
            "\n",
            "Test R-Squared: 0.6334699360693778\n",
            "Test MSE: 36.48207274253578\n"
          ]
        }
      ],
      "source": [
        "# Grid search for best parameters\n",
        "parameters = {'max_depth': [2,4,6,8,10,12],\n",
        "             'min_samples_split': [2,3,4],\n",
        "             'min_samples_leaf': [1,2]}\n",
        "tree = DecisionTreeRegressor()\n",
        "gscv = GridSearchCV(estimator=tree,param_grid=parameters)\n",
        "gscv.fit(X_train, y_train)\n",
        "\n",
        "# Fit model with the best parameters\n",
        "model = gscv.best_estimator_\n",
        "model.fit(X_train, y_train)\n",
        "\n",
        "# Print train and test statistics\n",
        "y_train_pred = model.predict(X_train)\n",
        "print(\"Train R-Squared:\", r2_score(y_train_pred, y_train))\n",
        "print(\"Train MSE:\", mean_squared_error(y_train_pred, y_train))\n",
        "print()\n",
        "y_pred = model.predict(X_test)\n",
        "print(\"Test R-Squared:\", r2_score(y_pred, y_test))\n",
        "print(\"Test MSE:\", mean_squared_error(y_pred, y_test))"
      ]
    },
    {
      "cell_type": "markdown",
      "metadata": {
        "id": "f3HOnc1PayW2"
      },
      "source": [
        "### Random Forest Regressor"
      ]
    },
    {
      "cell_type": "code",
      "execution_count": null,
      "metadata": {
        "scrolled": true,
        "id": "vQ3B-3r4ayW3",
        "outputId": "0567705c-ee4b-44b5-f2fd-4fc93b31b336"
      },
      "outputs": [
        {
          "name": "stdout",
          "output_type": "stream",
          "text": [
            "Train R-Squared: 0.9041648599350857\n",
            "Train MSE: 10.0711620159379\n",
            "\n",
            "Test R-Squared: 0.7141449088898958\n",
            "Test MSE: 27.92542881010073\n"
          ]
        }
      ],
      "source": [
        "# Fit a random forest and predict\n",
        "rfor = RandomForestRegressor(max_depth=19, max_features=1.0)\n",
        "rfor.fit(X_train, y_train)\n",
        "\n",
        "\n",
        "# Print train and test statistics\n",
        "y_train_pred = rfor.predict(X_train)\n",
        "print(\"Train R-Squared:\", r2_score(y_train_pred, y_train))\n",
        "print(\"Train MSE:\", mean_squared_error(y_train_pred, y_train))\n",
        "print()\n",
        "y_pred = rfor.predict(X_test)\n",
        "print(\"Test R-Squared:\", r2_score(y_pred, y_test))\n",
        "print(\"Test MSE:\", mean_squared_error(y_pred, y_test))"
      ]
    },
    {
      "cell_type": "markdown",
      "metadata": {
        "id": "daOx2SpOayW3"
      },
      "source": [
        "## Model Selection and Prediction"
      ]
    },
    {
      "cell_type": "markdown",
      "metadata": {
        "id": "6susWZENayW4"
      },
      "source": [
        "It is clear that the random forest regressor performs the best, so we will select this model and perform additional analysis.\n",
        "\n",
        "*Mean-absolute-error of 3.86 fantasy points is a very satisfying result, as the standard deviation of results is 11.32 points. Decent performance can be achieved by selecting a set number of points for the predicted winner and a set number of points for the predicted loser, but this model performs better than that. MAE is probably more relevant than MSE because we do not care about penalizing based on how inaccurate predictions are; we are just predicting if the value does or does not exceed the over/under line set by PrizePicks."
      ]
    },
    {
      "cell_type": "code",
      "execution_count": null,
      "metadata": {
        "id": "J3MFHBfnayW4",
        "outputId": "c423e918-9225-4dcb-dc0f-998a1d3eae9b"
      },
      "outputs": [
        {
          "name": "stdout",
          "output_type": "stream",
          "text": [
            "Test R-Squared: 0.7141449088898958\n",
            "Test MSE: 27.92542881010073\n",
            "Test MAE: 3.9066139607819106\n"
          ]
        },
        {
          "data": {
            "text/plain": [
              "<matplotlib.axes._subplots.AxesSubplot at 0x7ff1aa94a910>"
            ]
          },
          "execution_count": 50,
          "metadata": {},
          "output_type": "execute_result"
        },
        {
          "data": {
            "image/png": "[encoded data removed]",
            "text/plain": [
              "<Figure size 432x288 with 1 Axes>"
            ]
          },
          "metadata": {
            "needs_background": "light"
          },
          "output_type": "display_data"
        }
      ],
      "source": [
        "# Random forest regressor analysis\n",
        "print(\"Test R-Squared:\", r2_score(y_pred, y_test))\n",
        "print(\"Test MSE:\", mean_squared_error(y_pred, y_test))\n",
        "print(\"Test MAE:\", mean_absolute_error(y_pred, y_test))\n",
        "sns.scatterplot(x = y_test, y = y_pred)"
      ]
    }
  ],
  "metadata": {
    "kernelspec": {
      "display_name": "Python 3",
      "language": "python",
      "name": "python3"
    },
    "language_info": {
      "codemirror_mode": {
        "name": "ipython",
        "version": 3
      },
      "file_extension": ".py",
      "mimetype": "text/x-python",
      "name": "python",
      "nbconvert_exporter": "python",
      "pygments_lexer": "ipython3",
      "version": "3.8.3"
    },
    "colab": {
      "name": "ml_models.ipynb",
      "provenance": []
    }
  },
  "nbformat": 4,
  "nbformat_minor": 0
}